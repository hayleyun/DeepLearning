{
  "nbformat": 4,
  "nbformat_minor": 0,
  "metadata": {
    "colab": {
      "name": "01_CNN_간단한모델생성.ipynb",
      "provenance": [],
      "collapsed_sections": [],
      "toc_visible": true
    },
    "kernelspec": {
      "name": "python3",
      "display_name": "Python 3"
    },
    "language_info": {
      "name": "python"
    }
  },
  "cells": [
    {
      "cell_type": "markdown",
      "source": [
        "# mnist 손글씨 데이터셋\n",
        "- 간단한 구조의 합성곱 신경망 모델 만들기"
      ],
      "metadata": {
        "id": "T6fyxbjXeqYR"
      }
    },
    {
      "cell_type": "markdown",
      "source": [
        "## 합성곱이란?\n",
        "- 원본이미지에 필터를 적용 특성맵을 만드는 과정\n",
        "- 패딩을 사용하게 되면 원본이미지 크기로 특성맵을 만든다\n",
        "- 스트라이드(stride) : 몇개씩 건너 뛸까?"
      ],
      "metadata": {
        "id": "sftEk4PykiNg"
      }
    },
    {
      "cell_type": "markdown",
      "source": [
        "![합성곱 연산](https://img1.daumcdn.net/thumb/R1280x0/?scode=mtistory2&fname=http%3A%2F%2Fcfile8.uf.tistory.com%2Fimage%2F990ACC345C666EBC1CBF64)"
      ],
      "metadata": {
        "id": "9wgXAbArkkil"
      }
    },
    {
      "cell_type": "markdown",
      "source": [
        "## 풀링이란?\n",
        "- 추출된 특성맵을 다운 샘플링하여 이미지 크기를 줄이는 레이어\n",
        "- 이미지 축소를 통해 연산량을 감소시킴, 과대적합(over-fitting)을 방지한다는 장점이 있다.\n",
        "- 추출된 특성맵에 대해 다운 샘플링\n",
        "- 큰값을 추출(max pooling)\n",
        "- 평균값을 추충(average pooling)\n",
        "- 스트라이드(stride)에 따라 값 달라짐 "
      ],
      "metadata": {
        "id": "op_MtufPkqsJ"
      }
    },
    {
      "cell_type": "code",
      "execution_count": 2,
      "metadata": {
        "id": "NpUM0omVdfCb"
      },
      "outputs": [],
      "source": [
        "import tensorflow as tf"
      ]
    },
    {
      "cell_type": "markdown",
      "source": [
        "## 데이터 로드 및 전처리\n",
        "- 데이터셋을 불러오면 훈련셋, 검증셋으로 구분해 튜플 형태로 정리해 준다"
      ],
      "metadata": {
        "id": "52tIMvgwe4qN"
      }
    },
    {
      "cell_type": "code",
      "source": [
        "# mnist 손글씨 이미지 데이터 로드\n",
        "mnist = tf.keras.datasets.mnist"
      ],
      "metadata": {
        "id": "_UhIFByCeWXP"
      },
      "execution_count": 24,
      "outputs": []
    },
    {
      "cell_type": "code",
      "source": [
        "# 훈련셋, 검증셋 구분\n",
        "(x_train,y_train),(x_test,y_test) = mnist.load_data()"
      ],
      "metadata": {
        "id": "bj5Wc0WFfLDk"
      },
      "execution_count": 25,
      "outputs": []
    },
    {
      "cell_type": "code",
      "source": [
        "# 데이터 확인\n",
        "print(x_train.shape, y_train.shape)\n",
        "print(x_test.shape, y_test.shape)"
      ],
      "metadata": {
        "colab": {
          "base_uri": "https://localhost:8080/"
        },
        "id": "u6i-8aymfW3Q",
        "outputId": "d8bffb77-9d30-4606-f204-9c0f4200f1ea"
      },
      "execution_count": 26,
      "outputs": [
        {
          "output_type": "stream",
          "name": "stdout",
          "text": [
            "(60000, 28, 28) (60000,)\n",
            "(10000, 28, 28) (10000,)\n"
          ]
        }
      ]
    },
    {
      "cell_type": "markdown",
      "source": [
        "- 훈련 데이터셋의 개수는 60,000개\n",
        "- 검증 데이터셋의 개수는 10,000개\n",
        "- 가로 세로가 각각 28픽셀인 손글씨 이미지와 솔글씨가 나타내는 숫자 레이블(정답)이 매칭되어 있다"
      ],
      "metadata": {
        "id": "JDlaYUabfkb4"
      }
    },
    {
      "cell_type": "code",
      "source": [
        "# 훈련 셋의 첫번째(인덱스0) 이미지를 출력\n",
        "# 샘플 이미지 출력\n",
        "import matplotlib.pyplot as plt\n",
        "\n",
        "def plot_image(data, idx):\n",
        "  plt.figure(figsize=(5,5))\n",
        "  plt.imshow(data[idx], cmap='gray')\n",
        "  plt.axis('off')\n",
        "  plt.show()\n",
        "  \n",
        "plot_image(x_train,0)"
      ],
      "metadata": {
        "colab": {
          "base_uri": "https://localhost:8080/",
          "height": 303
        },
        "id": "Eb88zlTDfikn",
        "outputId": "e499ebcd-539b-48f6-c974-3ad8c7779b8c"
      },
      "execution_count": 27,
      "outputs": [
        {
          "output_type": "display_data",
          "data": {
            "text/plain": [
              "<Figure size 360x360 with 1 Axes>"
            ],
            "image/png": "[encoded data removed]"
          },
          "metadata": {
            "needs_background": "light"
          }
        }
      ]
    },
    {
      "cell_type": "markdown",
      "source": [
        "### 픽셀 값 정규화(스케일링)"
      ],
      "metadata": {
        "id": "7Fzwrslchl7k"
      }
    },
    {
      "cell_type": "code",
      "source": [
        "# 훈련셋과 검증 셋의 이미지 픽셀을 나나태는 값의 최소값, 최대값을 출력\n",
        "print(x_train.min(),x_train.max())\n",
        "print(x_test.min(),x_test.max())"
      ],
      "metadata": {
        "colab": {
          "base_uri": "https://localhost:8080/"
        },
        "id": "q6GXdgXKgZBS",
        "outputId": "8010198d-ba03-4964-a171-41fc42dd1f57"
      },
      "execution_count": 28,
      "outputs": [
        {
          "output_type": "stream",
          "name": "stdout",
          "text": [
            "0 255\n",
            "0 255\n"
          ]
        }
      ]
    },
    {
      "cell_type": "markdown",
      "source": [
        "- 이미지 픽셀이 0 ~ 255 범위의 숫자로 구성된 것을 파악"
      ],
      "metadata": {
        "id": "pxchj9TOg01e"
      }
    },
    {
      "cell_type": "code",
      "source": [
        "# 픽셀 값 정규화(스케일링) = 0 ~ 1 범위\n",
        "x_train = x_train / 255\n",
        "x_test = x_test / 255\n",
        "\n",
        "print(x_train.min(),x_train.max())\n",
        "print(x_test.min(),x_test.max())"
      ],
      "metadata": {
        "colab": {
          "base_uri": "https://localhost:8080/"
        },
        "id": "F4BcqI9Agxxm",
        "outputId": "9860aa2e-e731-425b-c7a6-019a42fc2252"
      },
      "execution_count": 29,
      "outputs": [
        {
          "output_type": "stream",
          "name": "stdout",
          "text": [
            "0.0 1.0\n",
            "0.0 1.0\n"
          ]
        }
      ]
    },
    {
      "cell_type": "markdown",
      "source": [
        "### 채널 추가\n",
        "- mnist 데이터셋은 색상을 나타내는 채널이 1개인 모노 컬러 이미지로 구성\n",
        "- CNN 모델에 주입하기 위해서 색상을 나타내는 채널을 추가해 준다\n",
        "- tf.newaxis 축을 텐서 배열로 직접 추가하는 방식\n",
        "- 따라서 (60000,28,28) 형태의 텐서가 (60000,28,28,1) 형태로 변환"
      ],
      "metadata": {
        "id": "9nrn2TMKhaxn"
      }
    },
    {
      "cell_type": "code",
      "source": [
        "# 비교를 위한 출력\n",
        "print(x_train.shape,x_test.shape)\n",
        "\n",
        "# 채널 추가 [...,]은 가장 마지막 축에 채널을 추가하기 위함\n",
        "x_train_in = x_train[..., tf.newaxis]\n",
        "x_test_in = x_test[..., tf.newaxis]\n",
        "\n",
        "print(x_train_in.shape, x_test_in.shape)"
      ],
      "metadata": {
        "colab": {
          "base_uri": "https://localhost:8080/"
        },
        "id": "V0MD2frWhVRQ",
        "outputId": "5dcdc55c-eb82-4466-9e10-a856d305782d"
      },
      "execution_count": 30,
      "outputs": [
        {
          "output_type": "stream",
          "name": "stdout",
          "text": [
            "(60000, 28, 28) (10000, 28, 28)\n",
            "(60000, 28, 28, 1) (10000, 28, 28, 1)\n"
          ]
        }
      ]
    },
    {
      "cell_type": "markdown",
      "source": [
        "## Sequential API로 모델 생성 및 학습\n",
        "- 합성곱 레이어 1개, 풀링 레이어 1개를 적용하는 간단한 모델을 만든다\n",
        "- 최종 분류기로 Dense 레이어 적용을 위해 Flatten 층 추가해 1차원 배열로 펼쳐준다\n",
        "\n",
        "![풀링](https://yoooniverse.github.io/assets/images/CNNmodel.png)"
      ],
      "metadata": {
        "id": "F64AlBoEjWxm"
      }
    },
    {
      "cell_type": "markdown",
      "source": [
        "- 합성곱은 Conv2D 레이어 사용, (3,3) 크기의 서로 다른 32가지 종류의 커널을 적용\n",
        "- 활성화 함수 : ReLU\n",
        "- 레이어 이름 : conv\n",
        "- 풀링 레이어 : (2, 2) 크기, max pooling 적용\n",
        "- 최종 분류기\n",
        "- 노드 개수 10개 활성화 함수 : softmax (다중 분류 문제)"
      ],
      "metadata": {
        "id": "iyspA7tTlJXV"
      }
    },
    {
      "cell_type": "markdown",
      "source": [
        "### 모델 생성"
      ],
      "metadata": {
        "id": "D51klWGElh2l"
      }
    },
    {
      "cell_type": "code",
      "source": [
        "# sequential API를 사용해 샘플 모델 생성\n",
        "model = tf.keras.Sequential([# 합성곱 Convolution 적용\n",
        "                             tf.keras.layers.Conv2D(32,(3,3),\n",
        "                             activation='relu',\n",
        "                             input_shape=(28,28,1),\n",
        "                             name='conv'),\n",
        "                             \n",
        "                             # Max pooling 적용\n",
        "                             tf.keras.layers.MaxPooling2D((2,2),name='pool'),\n",
        "                             \n",
        "                             # Classifier 출력층\n",
        "                             tf.keras.layers.Flatten(),\n",
        "                             tf.keras.layers.Dense(10, activation='softmax')])\n",
        "# 모델 확인\n",
        "model.summary()"
      ],
      "metadata": {
        "colab": {
          "base_uri": "https://localhost:8080/"
        },
        "id": "LNV8h9VwjTPl",
        "outputId": "5721bb89-a573-43e2-9b5a-b37e92579ede"
      },
      "execution_count": 44,
      "outputs": [
        {
          "output_type": "stream",
          "name": "stdout",
          "text": [
            "Model: \"sequential_6\"\n",
            "_________________________________________________________________\n",
            " Layer (type)                Output Shape              Param #   \n",
            "=================================================================\n",
            " conv (Conv2D)               (None, 26, 26, 32)        320       \n",
            "                                                                 \n",
            " pool (MaxPooling2D)         (None, 13, 13, 32)        0         \n",
            "                                                                 \n",
            " flatten_6 (Flatten)         (None, 5408)              0         \n",
            "                                                                 \n",
            " dense_6 (Dense)             (None, 10)                54090     \n",
            "                                                                 \n",
            "=================================================================\n",
            "Total params: 54,410\n",
            "Trainable params: 54,410\n",
            "Non-trainable params: 0\n",
            "_________________________________________________________________\n"
          ]
        }
      ]
    },
    {
      "cell_type": "markdown",
      "source": [
        "### 컴파일\n",
        "- 옵티마이저 : optimizer=adam\n",
        "- 손실함수 : loss=sparse_categorical_crossentropy\n",
        "- 평가지표 : metrics=accuracy"
      ],
      "metadata": {
        "id": "0J2-CFrnoaHX"
      }
    },
    {
      "cell_type": "code",
      "source": [
        "# 모델 컴파일\n",
        "model.compile(optimizer='adam', \n",
        "              loss='sparse_categorical_crossentropy', \n",
        "              metrics=['accuracy'])"
      ],
      "metadata": {
        "id": "5ORUsRY-neUo"
      },
      "execution_count": 45,
      "outputs": []
    },
    {
      "cell_type": "markdown",
      "source": [
        "### 모델 훈련\n",
        "- 훈련셋, 검증셋 주입\n",
        "- epoch를 10으로 지정\n",
        "- epoch당 손실과 평가 결과를 출력"
      ],
      "metadata": {
        "id": "7-msGbRqpaNg"
      }
    },
    {
      "cell_type": "code",
      "source": [
        "# 모델 훈련\n",
        "history = model.fit(x_train_in, y_train,\n",
        "                    validation_data=(x_test_in,y_test),\n",
        "                    epochs=10)"
      ],
      "metadata": {
        "colab": {
          "base_uri": "https://localhost:8080/"
        },
        "id": "2HgB06F2sIiv",
        "outputId": "c36f3f6f-e680-4e2c-e807-9281699160cd"
      },
      "execution_count": 18,
      "outputs": [
        {
          "output_type": "stream",
          "name": "stdout",
          "text": [
            "Epoch 1/10\n",
            "1875/1875 [==============================] - 30s 16ms/step - loss: 0.2174 - accuracy: 0.9398 - val_loss: 0.0851 - val_accuracy: 0.9744\n",
            "Epoch 2/10\n",
            "1875/1875 [==============================] - 29s 16ms/step - loss: 0.0781 - accuracy: 0.9771 - val_loss: 0.0706 - val_accuracy: 0.9780\n",
            "Epoch 3/10\n",
            "1875/1875 [==============================] - 29s 15ms/step - loss: 0.0596 - accuracy: 0.9820 - val_loss: 0.0598 - val_accuracy: 0.9812\n",
            "Epoch 4/10\n",
            "1875/1875 [==============================] - 29s 16ms/step - loss: 0.0496 - accuracy: 0.9847 - val_loss: 0.0547 - val_accuracy: 0.9820\n",
            "Epoch 5/10\n",
            "1875/1875 [==============================] - 29s 15ms/step - loss: 0.0419 - accuracy: 0.9875 - val_loss: 0.0536 - val_accuracy: 0.9819\n",
            "Epoch 6/10\n",
            "1875/1875 [==============================] - 29s 15ms/step - loss: 0.0357 - accuracy: 0.9894 - val_loss: 0.0620 - val_accuracy: 0.9801\n",
            "Epoch 7/10\n",
            "1875/1875 [==============================] - 29s 15ms/step - loss: 0.0306 - accuracy: 0.9907 - val_loss: 0.0552 - val_accuracy: 0.9820\n",
            "Epoch 8/10\n",
            "1875/1875 [==============================] - 29s 15ms/step - loss: 0.0262 - accuracy: 0.9921 - val_loss: 0.0527 - val_accuracy: 0.9837\n",
            "Epoch 9/10\n",
            "1875/1875 [==============================] - 29s 16ms/step - loss: 0.0224 - accuracy: 0.9931 - val_loss: 0.0560 - val_accuracy: 0.9827\n",
            "Epoch 10/10\n",
            "1875/1875 [==============================] - 29s 15ms/step - loss: 0.0194 - accuracy: 0.9940 - val_loss: 0.0542 - val_accuracy: 0.9831\n"
          ]
        }
      ]
    },
    {
      "cell_type": "markdown",
      "source": [
        "### 손실과 평가지표 계산\n",
        "- evaluate() 메소드를 모델 인스턴스에 적용하면 모델의 학습된 가중치를 사용하여 계산 해준다"
      ],
      "metadata": {
        "id": "gxMvOQ2Gq-5N"
      }
    },
    {
      "cell_type": "code",
      "source": [
        "model.evaluate(x_test_in,y_test)"
      ],
      "metadata": {
        "colab": {
          "base_uri": "https://localhost:8080/"
        },
        "id": "sP-MJr0Up7lR",
        "outputId": "9e202d19-76c9-4256-cc17-e3c599d2eae0"
      },
      "execution_count": 19,
      "outputs": [
        {
          "output_type": "stream",
          "name": "stdout",
          "text": [
            "313/313 [==============================] - 2s 6ms/step - loss: 0.0542 - accuracy: 0.9831\n"
          ]
        },
        {
          "output_type": "execute_result",
          "data": {
            "text/plain": [
              "[0.05423097684979439, 0.9830999970436096]"
            ]
          },
          "metadata": {},
          "execution_count": 19
        }
      ]
    },
    {
      "cell_type": "markdown",
      "source": [
        "## 모델의 예측오차와 정확도 그래프\n",
        "- 10 epoch 동안 모델의 예측 오차와 정확도를 그래프로 그리는 함수를 정의"
      ],
      "metadata": {
        "id": "2dCZgxDErR0Q"
      }
    },
    {
      "cell_type": "code",
      "source": [
        "def plot_loss_acc(history, epoch):\n",
        "    loss, val_loss = history.history['loss'], history.history['val_loss']\n",
        "    acc, val_acc = history.history['accuracy'], history.history['val_accuracy']\n",
        "    \n",
        "    fig, axes = plt.subplots(1,2,figsize=(12,4))\n",
        "    \n",
        "    axes[0].plot(range(1, epoch + 1), loss, label='Training')\n",
        "    axes[0].plot(range(1, epoch + 1), val_loss, label='validation')\n",
        "    axes[0].legend(loc='best')\n",
        "    axes[0].set_title('Loss')\n",
        "    \n",
        "    axes[1].plot(range(1, epoch + 1), acc, label='Training')\n",
        "    axes[1].plot(range(1, epoch + 1), val_acc, label='validation')\n",
        "    axes[1].legend(loc='best')\n",
        "    axes[1].set_title('Accuracy')\n",
        "    \n",
        "    plt.show()\n",
        "    \n",
        "plot_loss_acc(history, 10)"
      ],
      "metadata": {
        "colab": {
          "base_uri": "https://localhost:8080/",
          "height": 281
        },
        "id": "5D0Z46SZq54l",
        "outputId": "53e5ed90-6ad9-454a-fb81-6c8ed619fdc6"
      },
      "execution_count": 20,
      "outputs": [
        {
          "output_type": "display_data",
          "data": {
            "text/plain": [
              "<Figure size 864x288 with 2 Axes>"
            ],
            "image/png": "[encoded data removed]"
          },
          "metadata": {
            "needs_background": "light"
          }
        }
      ]
    },
    {
      "cell_type": "markdown",
      "source": [
        "- 그래프를 보면 훈련셋에 대한 손실은 계속 들어드는데 검증 셋의 손실은 어느 수준에서 더 이상 낮아지지 않는다\n",
        "- 4 epoch 이후부터는 모델이 과대적합으로 진행 되었다는 것을 파악할 수 있다"
      ],
      "metadata": {
        "id": "eoxbia4dsPeS"
      }
    },
    {
      "cell_type": "markdown",
      "source": [
        "## epoch 수 정정\n",
        "- 4 epoch 이후 모델 과대적합이 발생 했으므로 epoch 수를 4로 정정 후 다시 학습"
      ],
      "metadata": {
        "id": "InzIJlhdtTHd"
      }
    },
    {
      "cell_type": "code",
      "source": [
        "# 모델 훈련\n",
        "history = model.fit(x_train_in, y_train,\n",
        "                    validation_data=(x_test_in,y_test),\n",
        "                    epochs=4)"
      ],
      "metadata": {
        "colab": {
          "base_uri": "https://localhost:8080/"
        },
        "id": "mVhesFCcpXcw",
        "outputId": "7b4f20f3-585e-42c2-ed05-e90366d1bfe4"
      },
      "execution_count": 46,
      "outputs": [
        {
          "output_type": "stream",
          "name": "stdout",
          "text": [
            "Epoch 1/4\n",
            "1875/1875 [==============================] - 29s 15ms/step - loss: 0.2056 - accuracy: 0.9429 - val_loss: 0.0792 - val_accuracy: 0.9755\n",
            "Epoch 2/4\n",
            "1875/1875 [==============================] - 28s 15ms/step - loss: 0.0757 - accuracy: 0.9778 - val_loss: 0.0618 - val_accuracy: 0.9805\n",
            "Epoch 3/4\n",
            "1875/1875 [==============================] - 28s 15ms/step - loss: 0.0585 - accuracy: 0.9829 - val_loss: 0.0536 - val_accuracy: 0.9831\n",
            "Epoch 4/4\n",
            "1875/1875 [==============================] - 28s 15ms/step - loss: 0.0478 - accuracy: 0.9861 - val_loss: 0.0522 - val_accuracy: 0.9826\n"
          ]
        }
      ]
    },
    {
      "cell_type": "code",
      "source": [
        "model.evaluate(x_test_in,y_test)"
      ],
      "metadata": {
        "colab": {
          "base_uri": "https://localhost:8080/"
        },
        "id": "EUFWgYXCtkNU",
        "outputId": "cfa68e83-e44c-4c7f-c393-907938ef529e"
      },
      "execution_count": 47,
      "outputs": [
        {
          "output_type": "stream",
          "name": "stdout",
          "text": [
            "313/313 [==============================] - 2s 6ms/step - loss: 0.0522 - accuracy: 0.9826\n"
          ]
        },
        {
          "output_type": "execute_result",
          "data": {
            "text/plain": [
              "[0.0522487610578537, 0.9825999736785889]"
            ]
          },
          "metadata": {},
          "execution_count": 47
        }
      ]
    },
    {
      "cell_type": "code",
      "source": [
        "def plot_loss_acc(history, epoch):\n",
        "    loss, val_loss = history.history['loss'], history.history['val_loss']\n",
        "    acc, val_acc = history.history['accuracy'], history.history['val_accuracy']\n",
        "    \n",
        "    fig, axes = plt.subplots(1,2,figsize=(12,4))\n",
        "    \n",
        "    axes[0].plot(range(1, epoch + 1), loss, label='Training')\n",
        "    axes[0].plot(range(1, epoch + 1), val_loss, label='validation')\n",
        "    axes[0].legend(loc='best')\n",
        "    axes[0].set_title('Loss')\n",
        "    \n",
        "    axes[1].plot(range(1, epoch + 1), acc, label='Training')\n",
        "    axes[1].plot(range(1, epoch + 1), val_acc, label='validation')\n",
        "    axes[1].legend(loc='best')\n",
        "    axes[1].set_title('Accuracy')\n",
        "    \n",
        "    plt.show()\n",
        "    \n",
        "plot_loss_acc(history, 4)"
      ],
      "metadata": {
        "colab": {
          "base_uri": "https://localhost:8080/",
          "height": 281
        },
        "id": "opirWS7Tu_FT",
        "outputId": "e3c2ef47-bde0-41d0-9a09-a2f4bd52f3f1"
      },
      "execution_count": 48,
      "outputs": [
        {
          "output_type": "display_data",
          "data": {
            "text/plain": [
              "<Figure size 864x288 with 2 Axes>"
            ],
            "image/png": "[encoded data removed]"
          },
          "metadata": {
            "needs_background": "light"
          }
        }
      ]
    },
    {
      "cell_type": "markdown",
      "source": [
        "- 10 epochs = loss: 0.0542 - accuracy: 0.9831\n",
        "- 4 epochs = loss: 0.0522 - accuracy: 0.9826\n",
        "- 튜닝 전보다 정확도가 약간 떨어졌지만 오차가 많이 줄어든 것을 알 수 있다"
      ],
      "metadata": {
        "id": "j1sFLcrZv8qF"
      }
    },
    {
      "cell_type": "markdown",
      "source": [
        "## 예측 "
      ],
      "metadata": {
        "id": "l8LExkrc1PSm"
      }
    },
    {
      "cell_type": "code",
      "source": [
        "pred = model.predict(x_test_in)\n",
        "print(pred[0])"
      ],
      "metadata": {
        "colab": {
          "base_uri": "https://localhost:8080/"
        },
        "id": "K8BBDlCbvjLf",
        "outputId": "c2161296-c4dd-4627-9746-2e8f2d4e2496"
      },
      "execution_count": 51,
      "outputs": [
        {
          "output_type": "stream",
          "name": "stdout",
          "text": [
            "[3.0155116e-09 8.3724721e-08 7.2342510e-07 2.9404599e-05 3.2210226e-09\n",
            " 9.9923370e-10 1.6050571e-14 9.9996471e-01 3.6563216e-07 4.5822881e-06]\n"
          ]
        }
      ]
    },
    {
      "cell_type": "code",
      "source": [
        "# 정답\n",
        "y_test[:10]"
      ],
      "metadata": {
        "colab": {
          "base_uri": "https://localhost:8080/"
        },
        "id": "ZcEJJ9oN1ViP",
        "outputId": "c1e3db8c-19fb-4d35-c4d6-40ec1e6d715a"
      },
      "execution_count": 69,
      "outputs": [
        {
          "output_type": "execute_result",
          "data": {
            "text/plain": [
              "array([7, 2, 1, 0, 4, 1, 4, 9, 5, 9], dtype=uint8)"
            ]
          },
          "metadata": {},
          "execution_count": 69
        }
      ]
    },
    {
      "cell_type": "code",
      "source": [
        "# 넘파이 argmax 함수를 이용해 예측 확률을 실제 정답 레이블로 변환\n",
        "import numpy as np\n",
        "digit_labels = np.argmax(pred, axis=-1)\n",
        "digit_labels[0:10]"
      ],
      "metadata": {
        "colab": {
          "base_uri": "https://localhost:8080/"
        },
        "id": "rYj-sbo37Pwh",
        "outputId": "cf826752-4df2-4139-b269-b3278bf0c281"
      },
      "execution_count": 52,
      "outputs": [
        {
          "output_type": "execute_result",
          "data": {
            "text/plain": [
              "array([7, 2, 1, 0, 4, 1, 4, 9, 5, 9])"
            ]
          },
          "metadata": {},
          "execution_count": 52
        }
      ]
    },
    {
      "cell_type": "code",
      "source": [
        "# 검증 데이터셋의 인덱스 0에 해당하는 이미지를 출력하면 숫자 7에 대한 손글씨 이미지\n",
        "# 샘플 이미지 출력\n",
        "import matplotlib.pyplot as plt\n",
        "\n",
        "def plot_image(data, idx):\n",
        "    plt.figure(figsize=(5,5))\n",
        "    plt.imshow(data[idx])\n",
        "    plt.axis('off')\n",
        "    plt.show()\n",
        "\n",
        "plot_image(x_test,0)"
      ],
      "metadata": {
        "colab": {
          "base_uri": "https://localhost:8080/",
          "height": 303
        },
        "id": "YFoQy6Tv7mBm",
        "outputId": "a618a4f6-bba2-4c65-9219-fdec8cc0bde1"
      },
      "execution_count": 66,
      "outputs": [
        {
          "output_type": "display_data",
          "data": {
            "text/plain": [
              "<Figure size 360x360 with 1 Axes>"
            ],
            "image/png": "[encoded data removed]"
          },
          "metadata": {
            "needs_background": "light"
          }
        }
      ]
    },
    {
      "cell_type": "code",
      "source": [
        "|"
      ],
      "metadata": {
        "id": "zRUWVW5N7vp2"
      },
      "execution_count": null,
      "outputs": []
    }
  ]
}